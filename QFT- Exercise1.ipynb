{
 "cells": [
  {
   "cell_type": "code",
   "execution_count": null,
   "metadata": {},
   "outputs": [],
   "source": [
    "from sympy import symbols, sqrt, Matrix, simplify, I\n",
    "import numpy as np"
   ]
  },
  {
   "cell_type": "code",
   "execution_count": 181,
   "metadata": {},
   "outputs": [],
   "source": [
    "p0, p1, p2, p3 = symbols('p0 p1 p2 p3')\n",
    "A = sqrt((p0+1)/2)\n",
    "B = 1/(p0+1)\n",
    "i = 1j\n",
    "\n",
    "g0 = Matrix([[1, 0, 0, 0], [0, 1, 0, 0], [0, 0, -1, 0], [0, 0, 0, -1]])\n",
    "g1 = Matrix([[0, 0, 0, 1], [0, 0, 1, 0], [0, -1, 0, 0], [-1, 0, 0, 0]])\n",
    "g2 = Matrix([[0, 0, 0, -i], [0, 0, i, 0], [0, i, 0, 0], [-i, 0, 0, 0]])\n",
    "g3 = Matrix([[0, 0, 1, 0], [0, 0, 0, -1], [-1, 0, 0, 0], [0, 1, 0, 0]])\n",
    "\n",
    "J = Matrix([[1, 0, 0, 0], [0, 1, 0, 0], [0, 0, 1, 0], [0, 0, 0, 1]])\n",
    "minkowski = Matrix([[1, 0, 0, 0], [0, -1, 0, 0], [0, 0, -1, 0], [0, 0, 0, -1]])\n",
    "\n",
    "gamma_matrices = [g0,g1,g2,g3]\n"
   ]
  },
  {
   "cell_type": "code",
   "execution_count": 182,
   "metadata": {},
   "outputs": [
    {
     "name": "stdout",
     "output_type": "stream",
     "text": [
      "Matrix([[2, 0, 0, 0], [0, 2, 0, 0], [0, 0, 2, 0], [0, 0, 0, 2]])\n",
      "Matrix([[0, 0, 0, 0], [0, 0, 0, 0], [0, 0, 0, 0], [0, 0, 0, 0]])\n",
      "Matrix([[0, 0, 0, 0], [0, 0, 0, 0], [0, 0, 0, 0], [0, 0, 0, 0]])\n",
      "Matrix([[0, 0, 0, 0], [0, 0, 0, 0], [0, 0, 0, 0], [0, 0, 0, 0]])\n",
      "Matrix([[0, 0, 0, 0], [0, 0, 0, 0], [0, 0, 0, 0], [0, 0, 0, 0]])\n",
      "Matrix([[-2, 0, 0, 0], [0, -2, 0, 0], [0, 0, -2, 0], [0, 0, 0, -2]])\n",
      "Matrix([[0, 0, 0, 0], [0, 0, 0, 0], [0, 0, 0, 0], [0, 0, 0, 0]])\n",
      "Matrix([[0, 0, 0, 0], [0, 0, 0, 0], [0, 0, 0, 0], [0, 0, 0, 0]])\n",
      "Matrix([[0, 0, 0, 0], [0, 0, 0, 0], [0, 0, 0, 0], [0, 0, 0, 0]])\n",
      "Matrix([[0, 0, 0, 0], [0, 0, 0, 0], [0, 0, 0, 0], [0, 0, 0, 0]])\n",
      "Matrix([[-2.00000000000000, 0, 0, 0], [0, -2.00000000000000, 0, 0], [0, 0, -2.00000000000000, 0], [0, 0, 0, -2.00000000000000]])\n",
      "Matrix([[0, 0, 0, 0], [0, 0, 0, 0], [0, 0, 0, 0], [0, 0, 0, 0]])\n",
      "Matrix([[0, 0, 0, 0], [0, 0, 0, 0], [0, 0, 0, 0], [0, 0, 0, 0]])\n",
      "Matrix([[0, 0, 0, 0], [0, 0, 0, 0], [0, 0, 0, 0], [0, 0, 0, 0]])\n",
      "Matrix([[0, 0, 0, 0], [0, 0, 0, 0], [0, 0, 0, 0], [0, 0, 0, 0]])\n",
      "Matrix([[-2, 0, 0, 0], [0, -2, 0, 0], [0, 0, -2, 0], [0, 0, 0, -2]])\n"
     ]
    }
   ],
   "source": [
    "for mu in range(4):\n",
    "    for nu in range(4):\n",
    "        anticommutator = gamma_matrices[mu]*gamma_matrices[nu] + gamma_matrices[nu]*gamma_matrices[mu]\n",
    "        print(anticommutator)"
   ]
  },
  {
   "cell_type": "code",
   "execution_count": 183,
   "metadata": {},
   "outputs": [
    {
     "name": "stdout",
     "output_type": "stream",
     "text": [
      "Matrix([[1, 0, 0, 0], [0, 1, 0, 0], [0, 0, -1, 0], [0, 0, 0, -1]]) = Matrix([[1, 0, 0, 0], [0, 1, 0, 0], [0, 0, -1, 0], [0, 0, 0, -1]]) True?: True\n",
      "Matrix([[0, 0, 0, -1], [0, 0, -1, 0], [0, 1, 0, 0], [1, 0, 0, 0]]) = Matrix([[0, 0, 0, -1], [0, 0, -1, 0], [0, 1, 0, 0], [1, 0, 0, 0]]) True?: True\n",
      "Matrix([[0, 0, 0, 1.0*I], [0, 0, -1.0*I, 0], [0, -1.0*I, 0, 0], [1.0*I, 0, 0, 0]]) = Matrix([[0, 0, 0, 1.0*I], [0, 0, -1.0*I, 0], [0, -1.0*I, 0, 0], [1.0*I, 0, 0, 0]]) True?: True\n",
      "Matrix([[0, 0, -1, 0], [0, 0, 0, 1], [1, 0, 0, 0], [0, -1, 0, 0]]) = Matrix([[0, 0, -1, 0], [0, 0, 0, 1], [1, 0, 0, 0], [0, -1, 0, 0]]) True?: True\n"
     ]
    }
   ],
   "source": [
    "results = []\n",
    "for mu, gamma in enumerate(gamma_matrices):\n",
    "    left_side = gamma.conjugate().transpose()\n",
    "    right_side = g0 * gamma * g0\n",
    "    print(left_side,\"=\", right_side, \"True?:\",left_side==right_side)"
   ]
  },
  {
   "cell_type": "code",
   "execution_count": null,
   "metadata": {},
   "outputs": [
    {
     "name": "stdout",
     "output_type": "stream",
     "text": [
      "Matrix([[0, 0, 0, 0], [0, 0, 0, 0], [0, 0, 0, 0], [0, 0, 0, 0]])\n",
      "Matrix([[0, 0, 0, 0], [0, 0, 0, 0], [0, 0, 0, 0], [0, 0, 0, 0]])\n",
      "Matrix([[0, 0, 0, 0], [0, 0, 0, 0], [0, 0, 0, 0], [0, 0, 0, 0]])\n"
     ]
    }
   ],
   "source": [
    "A = Matrix(4, 1, symbols('A0 A1 A2 A3'))\n",
    "B = Matrix(4, 1, symbols('B0 B1 B2 B3'))\n",
    "\n",
    "A_slashed = A[0]*g0-( A[1]*g1+ A[2]*g2+A[3]*g3)\n",
    "B_slashed = B[0]*g0-( B[1]*g1+ B[2]*g2+B[3]*g3)\n",
    "\n",
    "sigma_term = Matrix.zeros(4,4)\n",
    "for a in range(4):\n",
    "    for b in range(4):\n",
    "        commutator = gamma_matrices[a] * gamma_matrices[b] - gamma_matrices[b] * gamma_matrices[a]\n",
    "        for m in range(4):\n",
    "            for v in range(4):\n",
    "                sigma_term += (I/2) * minkowski[a, m] * minkowski[b, v] * commutator * A[m] * B[v]\n",
    "\n",
    "sigma_final = simplify(I*sigma_term)\n",
    "\n",
    "first_term = simplify(A_slashed * B_slashed)\n",
    "second_term = simplify(((A.T *minkowski* B)[0]) * J - sigma_final)\n",
    "third_term = simplify(2 * ((A.T *minkowski* B)[0]) * J - B_slashed * A_slashed)\n",
    "\n",
    "print(simplify(first_term - second_term))\n",
    "print(simplify(first_term - third_term))\n",
    "print(simplify(second_term - third_term))\n"
   ]
  },
  {
   "cell_type": "code",
   "execution_count": null,
   "metadata": {},
   "outputs": [],
   "source": [
    "p0, p1, p2, p3 = symbols(\"p0 p1 p2 p3\")\n",
    "A_con = sqrt((p0+1)/2)\n",
    "B_con = 1/(p0+1)\n",
    "\n",
    "u1= A_con*Matrix([[1],[0], [B_con*p3], [B_con*(p1+I*p2)]])\n",
    "u2= A_con*Matrix([[0],[1], [B_con*(p1-I*p2)], [-B_con*p3]])\n",
    "v1= A_con*Matrix([[B_con*(p1-I*p2)],[-B_con*p3], [0],[1]])\n",
    "v2= A_con*Matrix([[B_con*p3], [B_con*(p1+I*p2)], [1],[0]])\n",
    "\n",
    "u1_bar = A_con*Matrix([[1],[0], [B_con*p3], [B_con*(p1-I*p2)]]).T * g0\n",
    "u2_bar = A_con*Matrix([[0],[1], [B_con*(p1+I*p2)], [-B_con*p3]]).T * g0\n",
    "v1_bar = A_con*Matrix([[B_con*(p1+I*p2)],[-B_con*p3], [0],[1]]).T * g0\n",
    "v2_bar = A_con*Matrix([[B_con*p3], [B_con*(p1-I*p2)], [1],[0]]).T * g0"
   ]
  },
  {
   "cell_type": "code",
   "execution_count": null,
   "metadata": {},
   "outputs": [
    {
     "name": "stdout",
     "output_type": "stream",
     "text": [
      "Matrix([[0], [0], [0], [0]])\n",
      "Matrix([[0], [0], [0], [0]])\n",
      "Matrix([[0], [0], [0], [0]])\n",
      "Matrix([[0], [0], [0], [0]])\n",
      "Matrix([[0, 0, 0, 0]])\n",
      "Matrix([[0, 0, 0, 0]])\n",
      "Matrix([[0, 0, 0, 0]])\n",
      "Matrix([[0, 0, 0, 0]])\n"
     ]
    }
   ],
   "source": [
    "r1= (p0*g0 - p1*g1 - p2*g2 -p3* g3 - J)*u1\n",
    "r1 = r1.subs(p0, sqrt(1 + p1**2 + p2**2 + p3**2))\n",
    "r1 = simplify(r1)\n",
    "print(r1)\n",
    "\n",
    "r12= (p0*g0 - p1*g1 - p2*g2 -p3* g3 - J)*u2\n",
    "r12 = r12.subs(p0, sqrt(1 + p1**2 + p2**2 + p3**2))\n",
    "r12 = simplify(r12)\n",
    "print(r12)\n",
    "\n",
    "r2 = (p0*g0-p1*g1-p2*g2-p3*g3 + J)*v1\n",
    "r2 = r2.subs(p0, sqrt(1 + p1**2 + p2**2 + p3**2))\n",
    "r2 = simplify(r2)\n",
    "print(r2)\n",
    "\n",
    "r22 = (p0*g0-p1*g1-p2*g2-p3*g3 + J)*v2\n",
    "r22 = r22.subs(p0, sqrt(1 + p1**2 + p2**2 + p3**2))\n",
    "r22 = simplify(r22)\n",
    "print(r22)\n",
    "\n",
    "r3 = u1_bar*(p0*g0-p1*g1-p2*g2-p3*g3-J)\n",
    "r3 = r3.subs(p0, sqrt(1 + p1**2 + p2**2 + p3**2))\n",
    "r3 = simplify(r3)\n",
    "print(r3)\n",
    "\n",
    "r33 = u2_bar*(p0*g0-p1*g1-p2*g2-p3*g3-J)\n",
    "r33 = r33.subs(p0, sqrt(1 + p1**2 + p2**2 + p3**2))\n",
    "r33 = simplify(r33)\n",
    "print(r33)\n",
    "\n",
    "\n",
    "r4 = v1_bar * (p0*g0 - p1*g1 - p2*g2 - p3*g3 + J)\n",
    "r4 = r4.subs(p0, sqrt(1 + p1**2 + p2**2 + p3**2))\n",
    "r4 = simplify(r4)\n",
    "print(r4)\n",
    "\n",
    "\n",
    "r44 = v2_bar * (p0*g0 - p1*g1 - p2*g2 - p3*g3 + J)\n",
    "r44 = r44.subs(p0, sqrt(1 + p1**2 + p2**2 + p3**2))\n",
    "r44 = simplify(r44)\n",
    "print(r44)\n"
   ]
  },
  {
   "cell_type": "code",
   "execution_count": null,
   "metadata": {},
   "outputs": [
    {
     "name": "stdout",
     "output_type": "stream",
     "text": [
      "Matrix([[1]])\n",
      "Matrix([[0]])\n",
      "Matrix([[0]])\n",
      "Matrix([[1]])\n",
      "Matrix([[-1]])\n",
      "Matrix([[0]])\n",
      "Matrix([[0]])\n",
      "Matrix([[-1]])\n",
      "Matrix([[0]])\n",
      "Matrix([[0]])\n",
      "Matrix([[0]])\n",
      "Matrix([[0]])\n",
      "Matrix([[0]])\n",
      "Matrix([[0]])\n",
      "Matrix([[0]])\n",
      "Matrix([[0]])\n"
     ]
    }
   ],
   "source": [
    "res_list = [\n",
    "    u1_bar * u1, u1_bar * u2, u2_bar * u1, u2_bar * u2,\n",
    "    v1_bar * v1, v1_bar * v2, v2_bar * v1, v2_bar * v2\n",
    "]\n",
    "\n",
    "res = []\n",
    "for expr in res_list:\n",
    "    expr = expr.subs(p0, sqrt(1 + p1**2 + p2**2 + p3**2))\n",
    "    expr = simplify(expr)\n",
    "    res.append(expr)\n",
    "    print(expr)\n",
    "\n",
    "res2_list = [\n",
    "    u1_bar * v1, u1_bar * v2, u2_bar * v1, u2_bar * v2,\n",
    "    v1_bar * u1, v1_bar * u2, v2_bar * u1, v2_bar * u2\n",
    "]\n",
    "\n",
    "res2 = []\n",
    "for expr in res2_list:\n",
    "    expr = expr.subs(p0, sqrt(1 + p1**2 + p2**2 + p3**2))\n",
    "    expr = expr.subs(I, sqrt(-1))\n",
    "    expr = simplify(expr)\n",
    "    res2.append(expr)\n",
    "\n",
    "    print(expr)"
   ]
  },
  {
   "cell_type": "code",
   "execution_count": null,
   "metadata": {},
   "outputs": [
    {
     "name": "stdout",
     "output_type": "stream",
     "text": [
      "Matrix([[-sqrt(p1**2 + p2**2 + p3**2 + 1)/2 - (-p1**2 - p2**2 - p3**2)/(2*(sqrt(p1**2 + p2**2 + p3**2 + 1) + 1)), 0, 0, 0], [0, -sqrt(p1**2 + p2**2 + p3**2 + 1)/2 - (-p1**2 - p2**2 - p3**2)/(2*(sqrt(p1**2 + p2**2 + p3**2 + 1) + 1)), 0, 0], [0, 0, -1/2, 0], [0, 0, 0, -1/2]])\n",
      "Matrix([[-1/2, 0, 0, 0], [0, -1/2, 0, 0], [0, 0, -sqrt(p1**2 + p2**2 + p3**2 + 1)/2 - (-p1**2 - p2**2 - p3**2)/(2*(sqrt(p1**2 + p2**2 + p3**2 + 1) + 1)), 0], [0, 0, 0, -sqrt(p1**2 + p2**2 + p3**2 + 1)/2 - (-p1**2 - p2**2 - p3**2)/(2*(sqrt(p1**2 + p2**2 + p3**2 + 1) + 1))]])\n"
     ]
    }
   ],
   "source": [
    "# Define the four-momentum operator using gamma matrices\n",
    "p_hat = g0 * p0 - g1 * p1 - g2 * p2 - g3 * p3\n",
    "\n",
    "# Define Lambda plus and minus\n",
    "Lambda_plus1 = (p_hat) / (2)\n",
    "Lambda_plus1 = Lambda_plus1.subs(p0, sqrt(1 + p1**2 + p2**2 + p3**2))\n",
    "Lambda_plus1 = simplify(Lambda_plus1)\n",
    "\n",
    "Lambda_minus1 = (-p_hat)  / (2)\n",
    "Lambda_minus1 = Lambda_minus1.subs(p0, sqrt(1 + p1**2 + p2**2 + p3**2))\n",
    "Lambda_minus1 = simplify(Lambda_minus1)\n",
    "\n",
    "Lambda_plus2 = u1 * u1_bar + u2 * u2_bar\n",
    "Lambda_plus2 = Lambda_plus2.subs(p0, sqrt(1 + p1**2 + p2**2 + p3**2))\n",
    "Lambda_plus2 = simplify(Lambda_plus2)\n",
    "\n",
    "Lambda_minus2 = - (v1 * v1_bar + v2 * v2_bar)\n",
    "Lambda_minus2 = Lambda_minus2.subs(p0, sqrt(1 + p1**2 + p2**2 + p3**2))\n",
    "Lambda_minus2 = simplify(Lambda_minus2)\n",
    "\n",
    "#print(\"Lambda^+:\", Lambda_plus1)\n",
    "#print(\"Lambda^-:\", Lambda_minus1)\n",
    "\n",
    "print(Lambda_minus1 - Lambda_minus2)\n",
    "print(Lambda_plus1 - Lambda_plus2)\n"
   ]
  },
  {
   "cell_type": "code",
   "execution_count": 112,
   "metadata": {},
   "outputs": [
    {
     "name": "stdout",
     "output_type": "stream",
     "text": [
      "Matrix([[0, 0, 0, 0], [0, 0, 0, 0], [0, 0, 0, 0], [0, 0, 0, 0]])\n",
      "Matrix([[0, 0, 0, 0], [0, 0, 0, 0], [0, 0, 0, 0], [0, 0, 0, 0]])\n"
     ]
    }
   ],
   "source": [
    "p_hat = g0 * p0 - g1 * p1 - g2 * p2 - g3 * p3\n",
    "\n",
    "lambda_p1 = (p_hat + 1 * np.eye(4)) / 2\n",
    "lambda_p1 = simplify(lambda_p1)\n",
    "\n",
    "lambda_m1 = (-p_hat + 1 * np.eye(4)) / 2\n",
    "lambda_m1 = simplify(lambda_m1)\n",
    "\n",
    "lambda_p2 = (u1 * u1_bar) + (u2 * u2_bar)\n",
    "lambda_p2 = simplify(lambda_p2)\n",
    "\n",
    "lambda_m2 = - ((v1 * v1_bar) + (v2 * v2_bar))\n",
    "lambda_m2 = simplify(lambda_m2)\n",
    "\n",
    "\n",
    "diff_lam_m = lambda_m1-lambda_m2\n",
    "diff_lam_m = diff_lam_m.subs(p1**2+p2**2+p3**2+1,p0**2)\n",
    "diff_lam_m = simplify(diff_lam_m)\n",
    "print(diff_lam_m)\n",
    "\n",
    "diff_lam_p = lambda_p1-lambda_p2\n",
    "diff_lam_p = diff_lam_p.subs(p1**2+p2**2+p3**2+1,p0**2)\n",
    "diff_lam_p = simplify(diff_lam_p)\n",
    "print(diff_lam_p)"
   ]
  }
 ],
 "metadata": {
  "kernelspec": {
   "display_name": "Python 3",
   "language": "python",
   "name": "python3"
  },
  "language_info": {
   "codemirror_mode": {
    "name": "ipython",
    "version": 3
   },
   "file_extension": ".py",
   "mimetype": "text/x-python",
   "name": "python",
   "nbconvert_exporter": "python",
   "pygments_lexer": "ipython3",
   "version": "3.13.0"
  }
 },
 "nbformat": 4,
 "nbformat_minor": 2
}
