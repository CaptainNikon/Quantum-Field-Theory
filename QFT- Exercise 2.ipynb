{
 "cells": [
  {
   "cell_type": "code",
   "execution_count": 1,
   "metadata": {},
   "outputs": [],
   "source": [
    "import sympy as sp"
   ]
  },
  {
   "cell_type": "code",
   "execution_count": null,
   "metadata": {},
   "outputs": [],
   "source": [
    "#Sybols and gamma matrices\n",
    "m, c, E_p, rho, lam = sp.symbols('m c E_p rho lambda', real=True)\n",
    "p0, p1, p2, p3 = sp.symbols('p0 p1 p2 p3', real=True)\n",
    "\n",
    "#This time I try using sp.I, since with the I like I defined it last time I couldnt use .adjoint() to get the hermitian\n",
    "#Since it did not work with the default imaginary number\n",
    "g0 = sp.Matrix([[1, 0, 0, 0], [0, 1, 0, 0], [0, 0, -1, 0], [0, 0, 0, -1]])\n",
    "g1 = sp.Matrix([[0, 0, 0, 1], [0, 0, 1, 0], [0, -1, 0, 0], [-1, 0, 0, 0]])\n",
    "g2 = sp.Matrix([[0, 0, 0, -sp.I], [0, 0, sp.I, 0], [0, sp.I, 0, 0], [-sp.I, 0, 0, 0]])\n",
    "g3 = sp.Matrix([[0, 0, 1, 0], [0, 0, 0, -1], [-1, 0, 0, 0], [0, 1, 0, 0]])"
   ]
  },
  {
   "cell_type": "code",
   "execution_count": 139,
   "metadata": {},
   "outputs": [],
   "source": [
    "p_mu = sp.Matrix([E_p/c,p1,p2,p3])\n",
    "p_slash = sp.simplify(g0* p_mu[0] - g1 * p_mu[1] - g2 * p_mu[2] - g3 * p_mu[3])\n",
    "\n",
    "u1_0= sp.Matrix([[1],[0],[0],[0]])\n",
    "u2_0= sp.Matrix([[0],[1],[0],[0]])\n",
    "\n",
    "norm_factor = sp.sqrt((2 * m * E_p) + (2*m**2*c**2))\n",
    "\n",
    "u1_p = ((m * c)*sp.eye(4) + p_slash) * u1_0 / norm_factor\n",
    "u2_p = ((m * c)*sp.eye(4) + p_slash) * u2_0 / norm_factor\n",
    "\n",
    "u1_p= sp.simplify(u1_p)\n",
    "u2_p= sp.simplify(u2_p)\n",
    "\n",
    "u = sp.cos(rho / 2) * u1_p + sp.exp(sp.I * lam) * sp.sin(rho / 2) * u2_p\n",
    "u = u.subs(E_p,m*c**2)\n",
    "u = sp.simplify(u)\n",
    "u_dagger = u.adjoint()\n",
    "u_dagger = sp.simplify(u_dagger)\n",
    "\n",
    "u = u.subs(p0,0).subs(p1,0).subs(p2,0).subs(p3,0)\n",
    "u_dagger = u_dagger.subs(p0,0).subs(p1,0).subs(p2,0).subs(p3,0)\n"
   ]
  },
  {
   "cell_type": "code",
   "execution_count": null,
   "metadata": {},
   "outputs": [
    {
     "name": "stdout",
     "output_type": "stream",
     "text": [
      "Matrix([[0], [0], [0]])\n"
     ]
    }
   ],
   "source": [
    "# Compute sigma components\n",
    "s1 = sp.I*sp.eye(4) * g2 * g3\n",
    "s2 = sp.I*sp.eye(4) * g3 * g1\n",
    "s3 = sp.I*sp.eye(4) * g1 * g2\n",
    "\n",
    "# Store in a vector\n",
    "sigma = [s1, s2, s3]\n",
    "\n",
    "# Define the unit vector n as a row vector\n",
    "n = sp.Matrix([sp.cos(lam) * sp.sin(rho), sp.sin(lam) * sp.sin(rho), sp.cos(rho)])\n",
    "\n",
    "# For each component in sigma, calculate u.H * sigma_i * u and form a vector\n",
    "result_vector = sp.Matrix([u_dagger * sigma_i * u for sigma_i in sigma])\n",
    "result_vector = sp.simplify(result_vector)\n",
    "\n",
    "# Subtract n from the calculated result vector\n",
    "final_expression = result_vector - n\n",
    "print(final_expression)"
   ]
  },
  {
   "cell_type": "code",
   "execution_count": null,
   "metadata": {},
   "outputs": [
    {
     "data": {
      "text/latex": [
       "$\\displaystyle \\left[\\begin{matrix}\\frac{0.25 \\sqrt{2} p_{3}^{2} \\sin{\\left(\\rho \\right)} \\sin{\\left(lam + \\frac{\\pi}{4} \\right)} + 1.0 p_{3}^{2} \\cos{\\left(\\rho \\right)} + 0.75 \\sqrt{3 p_{3}^{2} + 1} \\cos{\\left(\\rho \\right)} + 0.75 \\cos{\\left(\\rho \\right)}}{\\sqrt{3 p_{3}^{2} + 1} + 1} & \\frac{\\left(\\left(\\sqrt{3 p_{3}^{2} + 1} + 1\\right)^{2} \\sin{\\left(\\rho \\right)} + 1.0 \\left(p_{3}^{2} \\sin{\\left(lam \\right)} \\sin{\\left(\\rho \\right)} + p_{3}^{2} \\cos{\\left(\\rho \\right)} + \\left(p_{3}^{2} + \\sqrt{3 p_{3}^{2} + 1} + 1\\right) \\sin{\\left(\\rho \\right)} \\cos{\\left(lam \\right)} - i \\left(p_{3}^{2} \\sin{\\left(\\rho \\right)} \\cos{\\left(lam \\right)} + p_{3}^{2} \\cos{\\left(\\rho \\right)} + \\left(p_{3}^{2} + \\sqrt{3 p_{3}^{2} + 1} + 1\\right) \\sin{\\left(lam \\right)} \\sin{\\left(\\rho \\right)}\\right)\\right) e^{i lam}\\right) e^{- i lam}}{4 \\left(\\sqrt{3 p_{3}^{2} + 1} + 1\\right)} & 0.25 p_{3} \\left(- 1.0 \\sqrt{2} e^{i lam} \\sin{\\left(\\rho \\right)} \\sin{\\left(lam + \\frac{\\pi}{4} \\right)} - 2.0 e^{i lam} \\cos{\\left(\\rho \\right)} + \\left(-1.0 - 1.0 i\\right) \\sin{\\left(\\rho \\right)}\\right) e^{- i lam} & 0.25 p_{3} \\left(\\left(-1 + i\\right) e^{i lam} \\cos{\\left(\\rho \\right)} + \\sin{\\left(\\rho \\right)}\\right) e^{- i lam}\\\\\\frac{1.0 p_{3}^{2} \\sin{\\left(lam \\right)} \\sin{\\left(\\rho \\right)} + 1.0 p_{3}^{2} \\cos{\\left(\\rho \\right)} + \\left(\\sqrt{3 p_{3}^{2} + 1} + 1\\right)^{2} e^{i lam} \\sin{\\left(\\rho \\right)} + 1.0 \\left(p_{3}^{2} + \\sqrt{3 p_{3}^{2} + 1} + 1\\right) \\sin{\\left(\\rho \\right)} \\cos{\\left(lam \\right)} + 1.0 i \\left(p_{3}^{2} \\sin{\\left(\\rho \\right)} \\cos{\\left(lam \\right)} + p_{3}^{2} \\cos{\\left(\\rho \\right)} + \\left(p_{3}^{2} + \\sqrt{3 p_{3}^{2} + 1} + 1\\right) \\sin{\\left(lam \\right)} \\sin{\\left(\\rho \\right)}\\right)}{4 \\left(\\sqrt{3 p_{3}^{2} + 1} + 1\\right)} & \\frac{- 0.25 \\sqrt{2} p_{3}^{2} \\sin{\\left(\\rho \\right)} \\sin{\\left(lam + \\frac{\\pi}{4} \\right)} - 1.0 p_{3}^{2} \\cos{\\left(\\rho \\right)} - 0.75 \\sqrt{3 p_{3}^{2} + 1} \\cos{\\left(\\rho \\right)} - 0.75 \\cos{\\left(\\rho \\right)}}{\\sqrt{3 p_{3}^{2} + 1} + 1} & 0.25 p_{3} \\left(- e^{i lam} \\sin{\\left(\\rho \\right)} + \\cos{\\left(\\rho \\right)} + i \\cos{\\left(\\rho \\right)}\\right) & p_{3} \\left(0.25 \\left(-1 + i\\right) e^{i lam} \\sin{\\left(\\rho \\right)} - 0.25 \\sqrt{2} \\sin{\\left(\\rho \\right)} \\sin{\\left(lam + \\frac{\\pi}{4} \\right)} - 0.5 \\cos{\\left(\\rho \\right)}\\right)\\\\p_{3} \\left(0.25 \\left(1 - i\\right) e^{i lam} \\sin{\\left(\\rho \\right)} + 0.25 \\sqrt{2} \\sin{\\left(\\rho \\right)} \\sin{\\left(lam + \\frac{\\pi}{4} \\right)} + 0.5 \\cos{\\left(\\rho \\right)}\\right) & 0.25 p_{3} \\left(\\left(-1 + i\\right) e^{i lam} \\cos{\\left(\\rho \\right)} + \\sin{\\left(\\rho \\right)}\\right) e^{- i lam} & \\frac{0.25 \\left(p_{3}^{2} \\left(-1 + i\\right) e^{2 i lam} \\sin{\\left(\\rho \\right)} - \\sqrt{2} p_{3}^{2} e^{i lam} \\sin{\\left(\\rho \\right)} \\sin{\\left(lam + \\frac{\\pi}{4} \\right)} - p_{3}^{2} \\left(1 + i\\right) \\sin{\\left(\\rho \\right)} - \\sqrt{3 p_{3}^{2} + 1} e^{i lam} \\cos{\\left(\\rho \\right)} - e^{i lam} \\cos{\\left(\\rho \\right)}\\right) e^{- i lam}}{\\sqrt{3 p_{3}^{2} + 1} + 1} & \\frac{\\left(- p_{3}^{2} \\left(\\left(1 - i\\right) e^{i lam} \\sin{\\left(\\frac{\\rho}{2} \\right)} + \\cos{\\left(\\frac{\\rho}{2} \\right)}\\right) \\left(\\left(1 - i\\right) e^{i lam} \\cos{\\left(\\frac{\\rho}{2} \\right)} - \\sin{\\left(\\frac{\\rho}{2} \\right)}\\right) + 0.5 \\left(- p_{3}^{2} \\sin{\\left(lam \\right)} \\sin{\\left(\\rho \\right)} - p_{3}^{2} \\cos{\\left(\\rho \\right)} - \\left(p_{3}^{2} + \\sqrt{3 p_{3}^{2} + 1} + 1\\right) \\sin{\\left(\\rho \\right)} \\cos{\\left(lam \\right)} + i \\left(p_{3}^{2} \\sin{\\left(\\rho \\right)} \\cos{\\left(lam \\right)} + p_{3}^{2} \\cos{\\left(\\rho \\right)} + \\left(p_{3}^{2} + \\sqrt{3 p_{3}^{2} + 1} + 1\\right) \\sin{\\left(lam \\right)} \\sin{\\left(\\rho \\right)}\\right)\\right) e^{i lam}\\right) e^{- i lam}}{2 \\left(\\sqrt{3 p_{3}^{2} + 1} + 1\\right)}\\\\\\frac{p_{3} \\left(- e^{i lam} \\sin{\\left(\\rho \\right)} + \\left(1 + i\\right) \\cos{\\left(\\rho \\right)}\\right)}{4} & 0.25 p_{3} \\left(1.0 \\sqrt{2} e^{i lam} \\sin{\\left(\\rho \\right)} \\sin{\\left(lam + \\frac{\\pi}{4} \\right)} + 2.0 e^{i lam} \\cos{\\left(\\rho \\right)} + \\left(1.0 + 1.0 i\\right) \\sin{\\left(\\rho \\right)}\\right) e^{- i lam} & \\frac{\\left(p_{3}^{2} \\left(e^{i lam} \\sin{\\left(\\frac{\\rho}{2} \\right)} - \\left(1 + i\\right) \\cos{\\left(\\frac{\\rho}{2} \\right)}\\right) \\left(e^{i lam} \\cos{\\left(\\frac{\\rho}{2} \\right)} + \\left(1 + i\\right) \\sin{\\left(\\frac{\\rho}{2} \\right)}\\right) - 0.5 \\left(p_{3}^{2} \\sin{\\left(lam \\right)} \\sin{\\left(\\rho \\right)} + p_{3}^{2} \\cos{\\left(\\rho \\right)} + \\left(p_{3}^{2} + \\sqrt{3 p_{3}^{2} + 1} + 1\\right) \\sin{\\left(\\rho \\right)} \\cos{\\left(lam \\right)} + i \\left(p_{3}^{2} \\sin{\\left(\\rho \\right)} \\cos{\\left(lam \\right)} + p_{3}^{2} \\cos{\\left(\\rho \\right)} + \\left(p_{3}^{2} + \\sqrt{3 p_{3}^{2} + 1} + 1\\right) \\sin{\\left(lam \\right)} \\sin{\\left(\\rho \\right)}\\right)\\right) e^{i lam}\\right) e^{- i lam}}{2 \\left(\\sqrt{3 p_{3}^{2} + 1} + 1\\right)} & \\frac{0.25 \\left(p_{3}^{2} \\left(1 - i\\right) e^{2 i lam} \\sin{\\left(\\rho \\right)} + \\sqrt{2} p_{3}^{2} e^{i lam} \\sin{\\left(\\rho \\right)} \\sin{\\left(lam + \\frac{\\pi}{4} \\right)} + p_{3}^{2} \\left(1 + i\\right) \\sin{\\left(\\rho \\right)} + \\sqrt{3 p_{3}^{2} + 1} e^{i lam} \\cos{\\left(\\rho \\right)} + e^{i lam} \\cos{\\left(\\rho \\right)}\\right) e^{- i lam}}{\\sqrt{3 p_{3}^{2} + 1} + 1}\\end{matrix}\\right]$"
      ],
      "text/plain": [
       "Matrix([\n",
       "[                                                                                                                                                  (0.25*sqrt(2)*p3**2*sin(rho)*sin(lam + pi/4) + 1.0*p3**2*cos(rho) + 0.75*sqrt(3*p3**2 + 1)*cos(rho) + 0.75*cos(rho))/(sqrt(3*p3**2 + 1) + 1), ((sqrt(3*p3**2 + 1) + 1)**2*sin(rho) + 1.0*(p3**2*sin(lam)*sin(rho) + p3**2*cos(rho) + (p3**2 + sqrt(3*p3**2 + 1) + 1)*sin(rho)*cos(lam) - I*(p3**2*sin(rho)*cos(lam) + p3**2*cos(rho) + (p3**2 + sqrt(3*p3**2 + 1) + 1)*sin(lam)*sin(rho)))*exp(I*lam))*exp(-I*lam)/(4*(sqrt(3*p3**2 + 1) + 1)),                                                                                                                                                                                                                                   0.25*p3*(-1.0*sqrt(2)*exp(I*lam)*sin(rho)*sin(lam + pi/4) - 2.0*exp(I*lam)*cos(rho) + (-1.0 - 1.0*I)*sin(rho))*exp(-I*lam),                                                                                                                                                                                                                                                                                                  0.25*p3*((-1 + I)*exp(I*lam)*cos(rho) + sin(rho))*exp(-I*lam)],\n",
       "[(1.0*p3**2*sin(lam)*sin(rho) + 1.0*p3**2*cos(rho) + (sqrt(3*p3**2 + 1) + 1)**2*exp(I*lam)*sin(rho) + 1.0*(p3**2 + sqrt(3*p3**2 + 1) + 1)*sin(rho)*cos(lam) + 1.0*I*(p3**2*sin(rho)*cos(lam) + p3**2*cos(rho) + (p3**2 + sqrt(3*p3**2 + 1) + 1)*sin(lam)*sin(rho)))/(4*(sqrt(3*p3**2 + 1) + 1)),                                                                                                                                                    (-0.25*sqrt(2)*p3**2*sin(rho)*sin(lam + pi/4) - 1.0*p3**2*cos(rho) - 0.75*sqrt(3*p3**2 + 1)*cos(rho) - 0.75*cos(rho))/(sqrt(3*p3**2 + 1) + 1),                                                                                                                                                                                                                                                                                                       0.25*p3*(-exp(I*lam)*sin(rho) + cos(rho) + I*cos(rho)),                                                                                                                                                                                                                                                                  p3*(0.25*(-1 + I)*exp(I*lam)*sin(rho) - 0.25*sqrt(2)*sin(rho)*sin(lam + pi/4) - 0.5*cos(rho))],\n",
       "[                                                                                                                                                                                                  p3*(0.25*(1 - I)*exp(I*lam)*sin(rho) + 0.25*sqrt(2)*sin(rho)*sin(lam + pi/4) + 0.5*cos(rho)),                                                                                                                                                                                                                                    0.25*p3*((-1 + I)*exp(I*lam)*cos(rho) + sin(rho))*exp(-I*lam),                                                                                                                                   0.25*(p3**2*(-1 + I)*exp(2*I*lam)*sin(rho) - sqrt(2)*p3**2*exp(I*lam)*sin(rho)*sin(lam + pi/4) - p3**2*(1 + I)*sin(rho) - sqrt(3*p3**2 + 1)*exp(I*lam)*cos(rho) - exp(I*lam)*cos(rho))*exp(-I*lam)/(sqrt(3*p3**2 + 1) + 1), (-p3**2*((1 - I)*exp(I*lam)*sin(rho/2) + cos(rho/2))*((1 - I)*exp(I*lam)*cos(rho/2) - sin(rho/2)) + 0.5*(-p3**2*sin(lam)*sin(rho) - p3**2*cos(rho) - (p3**2 + sqrt(3*p3**2 + 1) + 1)*sin(rho)*cos(lam) + I*(p3**2*sin(rho)*cos(lam) + p3**2*cos(rho) + (p3**2 + sqrt(3*p3**2 + 1) + 1)*sin(lam)*sin(rho)))*exp(I*lam))*exp(-I*lam)/(2*(sqrt(3*p3**2 + 1) + 1))],\n",
       "[                                                                                                                                                                                                                                                p3*(-exp(I*lam)*sin(rho) + (1 + I)*cos(rho))/4,                                                                                                                                                                         0.25*p3*(1.0*sqrt(2)*exp(I*lam)*sin(rho)*sin(lam + pi/4) + 2.0*exp(I*lam)*cos(rho) + (1.0 + 1.0*I)*sin(rho))*exp(-I*lam), (p3**2*(exp(I*lam)*sin(rho/2) - (1 + I)*cos(rho/2))*(exp(I*lam)*cos(rho/2) + (1 + I)*sin(rho/2)) - 0.5*(p3**2*sin(lam)*sin(rho) + p3**2*cos(rho) + (p3**2 + sqrt(3*p3**2 + 1) + 1)*sin(rho)*cos(lam) + I*(p3**2*sin(rho)*cos(lam) + p3**2*cos(rho) + (p3**2 + sqrt(3*p3**2 + 1) + 1)*sin(lam)*sin(rho)))*exp(I*lam))*exp(-I*lam)/(2*(sqrt(3*p3**2 + 1) + 1)),                                                                                                                                      0.25*(p3**2*(1 - I)*exp(2*I*lam)*sin(rho) + sqrt(2)*p3**2*exp(I*lam)*sin(rho)*sin(lam + pi/4) + p3**2*(1 + I)*sin(rho) + sqrt(3*p3**2 + 1)*exp(I*lam)*cos(rho) + exp(I*lam)*cos(rho))*exp(-I*lam)/(sqrt(3*p3**2 + 1) + 1)]])"
      ]
     },
     "execution_count": 180,
     "metadata": {},
     "output_type": "execute_result"
    }
   ],
   "source": [
    "m = 1\n",
    "E_p = sp.sqrt(c**4+c**2*(p1**2+p2**2+p3**2))\n",
    "p0 = sp.sqrt(c**4 + c**2*(p1**2 + p2**2 + p3**2))\n",
    "\n",
    "p_mu = sp.Matrix([p0,p1,p2,p3])\n",
    "p_slash = sp.simplify(g0* p_mu[0] - g1 * p_mu[1] - g2 * p_mu[2] - g3 * p_mu[3])\n",
    "\n",
    "u1_0= sp.Matrix([[1],[0],[0],[0]])\n",
    "u2_0= sp.Matrix([[0],[1],[0],[0]])\n",
    "\n",
    "norm_factor = sp.sqrt((2 * m* E_p) + (2*m**2*c**2))\n",
    "\n",
    "u1_p = ((m * c)*sp.eye(4) + p_slash) * u1_0 / norm_factor\n",
    "u2_p = ((m * c)*sp.eye(4) + p_slash) * u2_0 / norm_factor\n",
    "\n",
    "u = sp.cos(rho / 2) * u1_p + sp.exp(sp.I * lam) * sp.sin(rho / 2) * u2_p\n",
    "u = sp.simplify(u)\n",
    "u_dagger = u.adjoint()\n",
    "u_dagger = sp.simplify(u_dagger)\n",
    "\n",
    "u_bar = u_dagger*g0\n",
    "\n",
    "left_side= sp.simplify(u*u_bar)\n",
    "left_side = sp.trigsimp(left_side)\n",
    "left_side= sp.simplify(left_side)\n",
    "\n",
    "e_0 = sp.Matrix([1, 0, 0, 0])\n",
    "e_1 = sp.Matrix([0, 1, 0, 0])\n",
    "e_2 = sp.Matrix([0, 0, 1, 0])\n",
    "e_3 = sp.Matrix([0, 0, 0, 1])\n",
    "\n",
    "g5 = sp.I * g0 * g1 * g2 * g3\n",
    "\n",
    "alpha_i_mu = []\n",
    "for i, e_i in enumerate([e_1, e_2, e_3], start=1):\n",
    "    term1 = -e_i\n",
    "    term2 = (p_mu[i] / (1 + p0)) * (e_0 + p_mu)\n",
    "    alpha_i_mu.append(term1 - term2)\n",
    "\n",
    "alpha_mu = sp.Matrix([0, 0, 0, 0])\n",
    "\n",
    "for i in range(3):\n",
    "    alpha_mu += n[i] * alpha_i_mu[i]\n",
    "\n",
    "p_dot_alpha = sum(p_mu[i] * alpha_mu[i] for i in range(4))\n",
    "\n",
    "alpha_mu_slash = g0* alpha_mu[0] - g1 * alpha_mu[1] - g2 * alpha_mu[2] - g3 * alpha_mu[3]\n",
    "\n",
    "right_side = (1/4) * (p_slash + sp.eye(4) + g5 * alpha_mu_slash)\n",
    "right_side = sp.simplify(right_side)\n",
    "right_side = sp.trigsimp(right_side)\n",
    "right_side = sp.simplify(right_side)\n",
    "\n",
    "difference = sp.simplify(left_side - right_side)\n",
    "difference"
   ]
  }
 ],
 "metadata": {
  "kernelspec": {
   "display_name": "Python 3",
   "language": "python",
   "name": "python3"
  },
  "language_info": {
   "codemirror_mode": {
    "name": "ipython",
    "version": 3
   },
   "file_extension": ".py",
   "mimetype": "text/x-python",
   "name": "python",
   "nbconvert_exporter": "python",
   "pygments_lexer": "ipython3",
   "version": "3.13.0"
  }
 },
 "nbformat": 4,
 "nbformat_minor": 2
}
